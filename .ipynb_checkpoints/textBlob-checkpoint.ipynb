{
 "cells": [
  {
   "cell_type": "code",
   "execution_count": 34,
   "id": "9ba5262f-c958-454e-b2ae-fe5be8df615c",
   "metadata": {},
   "outputs": [],
   "source": [
    "from textblob import TextBlob\n",
    "import pandas as pd"
   ]
  },
  {
   "cell_type": "code",
   "execution_count": 35,
   "id": "3dfe2e59-3aa6-4103-89d9-97919ad0df4d",
   "metadata": {},
   "outputs": [],
   "source": [
    "file_path = 'twitter_training.csv'"
   ]
  },
  {
   "cell_type": "code",
   "execution_count": 36,
   "id": "0a91f41b-09e6-407f-b96a-c071d6680398",
   "metadata": {},
   "outputs": [
    {
     "data": {
      "text/html": [
       "<div>\n",
       "<style scoped>\n",
       "    .dataframe tbody tr th:only-of-type {\n",
       "        vertical-align: middle;\n",
       "    }\n",
       "\n",
       "    .dataframe tbody tr th {\n",
       "        vertical-align: top;\n",
       "    }\n",
       "\n",
       "    .dataframe thead th {\n",
       "        text-align: right;\n",
       "    }\n",
       "</style>\n",
       "<table border=\"1\" class=\"dataframe\">\n",
       "  <thead>\n",
       "    <tr style=\"text-align: right;\">\n",
       "      <th></th>\n",
       "      <th>entity</th>\n",
       "      <th>sentiment</th>\n",
       "      <th>tweetText</th>\n",
       "    </tr>\n",
       "    <tr>\n",
       "      <th>TweetID</th>\n",
       "      <th></th>\n",
       "      <th></th>\n",
       "      <th></th>\n",
       "    </tr>\n",
       "  </thead>\n",
       "  <tbody>\n",
       "    <tr>\n",
       "      <th>2401</th>\n",
       "      <td>Borderlands</td>\n",
       "      <td>Positive</td>\n",
       "      <td>im getting on borderlands and i will murder yo...</td>\n",
       "    </tr>\n",
       "    <tr>\n",
       "      <th>2401</th>\n",
       "      <td>Borderlands</td>\n",
       "      <td>Positive</td>\n",
       "      <td>I am coming to the borders and I will kill you...</td>\n",
       "    </tr>\n",
       "    <tr>\n",
       "      <th>2401</th>\n",
       "      <td>Borderlands</td>\n",
       "      <td>Positive</td>\n",
       "      <td>im getting on borderlands and i will kill you ...</td>\n",
       "    </tr>\n",
       "    <tr>\n",
       "      <th>2401</th>\n",
       "      <td>Borderlands</td>\n",
       "      <td>Positive</td>\n",
       "      <td>im coming on borderlands and i will murder you...</td>\n",
       "    </tr>\n",
       "    <tr>\n",
       "      <th>2401</th>\n",
       "      <td>Borderlands</td>\n",
       "      <td>Positive</td>\n",
       "      <td>im getting on borderlands 2 and i will murder ...</td>\n",
       "    </tr>\n",
       "  </tbody>\n",
       "</table>\n",
       "</div>"
      ],
      "text/plain": [
       "              entity sentiment  \\\n",
       "TweetID                          \n",
       "2401     Borderlands  Positive   \n",
       "2401     Borderlands  Positive   \n",
       "2401     Borderlands  Positive   \n",
       "2401     Borderlands  Positive   \n",
       "2401     Borderlands  Positive   \n",
       "\n",
       "                                                 tweetText  \n",
       "TweetID                                                     \n",
       "2401     im getting on borderlands and i will murder yo...  \n",
       "2401     I am coming to the borders and I will kill you...  \n",
       "2401     im getting on borderlands and i will kill you ...  \n",
       "2401     im coming on borderlands and i will murder you...  \n",
       "2401     im getting on borderlands 2 and i will murder ...  "
      ]
     },
     "execution_count": 36,
     "metadata": {},
     "output_type": "execute_result"
    }
   ],
   "source": [
    "# taking a look at the dataframe to better understand what to do next\n",
    "\n",
    "colnames = ['TweetID', 'entity', 'sentiment', 'tweetText']\n",
    "training_df = pd.read_csv(file_path, names=colnames, index_col='TweetID', header=None)\n",
    "training_df.head()"
   ]
  },
  {
   "cell_type": "code",
   "execution_count": 48,
   "id": "13af344d-81fe-4ed6-966c-753dda7cbd6d",
   "metadata": {},
   "outputs": [],
   "source": [
    "# use textblob to calculate the tweets polarity and the subjectivity of the tweet\n",
    "\n",
    "def tweet_polarity(df, colname):\n",
    "    pol_values = []\n",
    "    tweets = df[colname].tolist()\n",
    "    for tw in tweets:\n",
    "        try:\n",
    "            twpol = TextBlob(tw).polarity\n",
    "            pol_values.append(twpol)\n",
    "        except:\n",
    "            pol_values.append('NA')\n",
    "    df['polarity'] = pol_values\n",
    "    return df\n",
    "\n",
    "def tweet_subjectivity"
   ]
  },
  {
   "cell_type": "code",
   "execution_count": 49,
   "id": "90446f5a-aa46-4c30-a19c-fe6b69a5efe0",
   "metadata": {},
   "outputs": [],
   "source": [
    "dfWpol = tweet_polarity(training_df, 'tweetText')"
   ]
  },
  {
   "cell_type": "code",
   "execution_count": 50,
   "id": "ead3e94e-af8b-4d50-b601-8eb730ed4140",
   "metadata": {},
   "outputs": [
    {
     "data": {
      "text/html": [
       "<div>\n",
       "<style scoped>\n",
       "    .dataframe tbody tr th:only-of-type {\n",
       "        vertical-align: middle;\n",
       "    }\n",
       "\n",
       "    .dataframe tbody tr th {\n",
       "        vertical-align: top;\n",
       "    }\n",
       "\n",
       "    .dataframe thead th {\n",
       "        text-align: right;\n",
       "    }\n",
       "</style>\n",
       "<table border=\"1\" class=\"dataframe\">\n",
       "  <thead>\n",
       "    <tr style=\"text-align: right;\">\n",
       "      <th></th>\n",
       "      <th>entity</th>\n",
       "      <th>sentiment</th>\n",
       "      <th>tweetText</th>\n",
       "      <th>polarity</th>\n",
       "    </tr>\n",
       "    <tr>\n",
       "      <th>TweetID</th>\n",
       "      <th></th>\n",
       "      <th></th>\n",
       "      <th></th>\n",
       "      <th></th>\n",
       "    </tr>\n",
       "  </thead>\n",
       "  <tbody>\n",
       "    <tr>\n",
       "      <th>2401</th>\n",
       "      <td>Borderlands</td>\n",
       "      <td>Positive</td>\n",
       "      <td>im getting on borderlands and i will murder yo...</td>\n",
       "      <td>0.0</td>\n",
       "    </tr>\n",
       "    <tr>\n",
       "      <th>2401</th>\n",
       "      <td>Borderlands</td>\n",
       "      <td>Positive</td>\n",
       "      <td>I am coming to the borders and I will kill you...</td>\n",
       "      <td>0.0</td>\n",
       "    </tr>\n",
       "    <tr>\n",
       "      <th>2401</th>\n",
       "      <td>Borderlands</td>\n",
       "      <td>Positive</td>\n",
       "      <td>im getting on borderlands and i will kill you ...</td>\n",
       "      <td>0.0</td>\n",
       "    </tr>\n",
       "    <tr>\n",
       "      <th>2401</th>\n",
       "      <td>Borderlands</td>\n",
       "      <td>Positive</td>\n",
       "      <td>im coming on borderlands and i will murder you...</td>\n",
       "      <td>0.0</td>\n",
       "    </tr>\n",
       "    <tr>\n",
       "      <th>2401</th>\n",
       "      <td>Borderlands</td>\n",
       "      <td>Positive</td>\n",
       "      <td>im getting on borderlands 2 and i will murder ...</td>\n",
       "      <td>0.0</td>\n",
       "    </tr>\n",
       "  </tbody>\n",
       "</table>\n",
       "</div>"
      ],
      "text/plain": [
       "              entity sentiment  \\\n",
       "TweetID                          \n",
       "2401     Borderlands  Positive   \n",
       "2401     Borderlands  Positive   \n",
       "2401     Borderlands  Positive   \n",
       "2401     Borderlands  Positive   \n",
       "2401     Borderlands  Positive   \n",
       "\n",
       "                                                 tweetText polarity  \n",
       "TweetID                                                              \n",
       "2401     im getting on borderlands and i will murder yo...      0.0  \n",
       "2401     I am coming to the borders and I will kill you...      0.0  \n",
       "2401     im getting on borderlands and i will kill you ...      0.0  \n",
       "2401     im coming on borderlands and i will murder you...      0.0  \n",
       "2401     im getting on borderlands 2 and i will murder ...      0.0  "
      ]
     },
     "execution_count": 50,
     "metadata": {},
     "output_type": "execute_result"
    }
   ],
   "source": [
    "dfWpol.head()"
   ]
  },
  {
   "cell_type": "code",
   "execution_count": 57,
   "id": "80a067ef-55d7-4314-8215-f29ad169db35",
   "metadata": {},
   "outputs": [
    {
     "data": {
      "text/plain": [
       "0.4"
      ]
     },
     "execution_count": 57,
     "metadata": {},
     "output_type": "execute_result"
    }
   ],
   "source": [
    "pol_v = dfWpol['polarity'].tolist()\n"
   ]
  },
  {
   "cell_type": "code",
   "execution_count": null,
   "id": "f03701c8-bbd2-4992-9cc7-4794ef3f5f4d",
   "metadata": {},
   "outputs": [],
   "source": []
  }
 ],
 "metadata": {
  "kernelspec": {
   "display_name": "Python 3 (ipykernel)",
   "language": "python",
   "name": "python3"
  },
  "language_info": {
   "codemirror_mode": {
    "name": "ipython",
    "version": 3
   },
   "file_extension": ".py",
   "mimetype": "text/x-python",
   "name": "python",
   "nbconvert_exporter": "python",
   "pygments_lexer": "ipython3",
   "version": "3.10.5"
  }
 },
 "nbformat": 4,
 "nbformat_minor": 5
}
